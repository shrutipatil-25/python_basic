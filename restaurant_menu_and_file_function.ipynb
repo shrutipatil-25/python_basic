{
  "nbformat": 4,
  "nbformat_minor": 0,
  "metadata": {
    "colab": {
      "provenance": [],
      "authorship_tag": "ABX9TyNm780GbycNjjCffRnkBuBo",
      "include_colab_link": true
    },
    "kernelspec": {
      "name": "python3",
      "display_name": "Python 3"
    },
    "language_info": {
      "name": "python"
    }
  },
  "cells": [
    {
      "cell_type": "markdown",
      "metadata": {
        "id": "view-in-github",
        "colab_type": "text"
      },
      "source": [
        "<a href=\"https://colab.research.google.com/github/shrutipatil-25/python_basic/blob/main/restaurant_menu_and_file_function.ipynb\" target=\"_parent\"><img src=\"https://colab.research.google.com/assets/colab-badge.svg\" alt=\"Open In Colab\"/></a>"
      ]
    },
    {
      "cell_type": "code",
      "source": [
        "pip install openai==0.28"
      ],
      "metadata": {
        "colab": {
          "base_uri": "https://localhost:8080/"
        },
        "id": "m0Qp0nH8ZywM",
        "outputId": "e5c707f0-8d86-4dd0-de32-d0ba23e61f32"
      },
      "execution_count": 1,
      "outputs": [
        {
          "output_type": "stream",
          "name": "stdout",
          "text": [
            "Collecting openai==0.28\n",
            "  Downloading openai-0.28.0-py3-none-any.whl.metadata (13 kB)\n",
            "Requirement already satisfied: requests>=2.20 in /usr/local/lib/python3.11/dist-packages (from openai==0.28) (2.32.3)\n",
            "Requirement already satisfied: tqdm in /usr/local/lib/python3.11/dist-packages (from openai==0.28) (4.67.1)\n",
            "Requirement already satisfied: aiohttp in /usr/local/lib/python3.11/dist-packages (from openai==0.28) (3.11.15)\n",
            "Requirement already satisfied: charset-normalizer<4,>=2 in /usr/local/lib/python3.11/dist-packages (from requests>=2.20->openai==0.28) (3.4.2)\n",
            "Requirement already satisfied: idna<4,>=2.5 in /usr/local/lib/python3.11/dist-packages (from requests>=2.20->openai==0.28) (3.10)\n",
            "Requirement already satisfied: urllib3<3,>=1.21.1 in /usr/local/lib/python3.11/dist-packages (from requests>=2.20->openai==0.28) (2.4.0)\n",
            "Requirement already satisfied: certifi>=2017.4.17 in /usr/local/lib/python3.11/dist-packages (from requests>=2.20->openai==0.28) (2025.7.14)\n",
            "Requirement already satisfied: aiohappyeyeballs>=2.3.0 in /usr/local/lib/python3.11/dist-packages (from aiohttp->openai==0.28) (2.6.1)\n",
            "Requirement already satisfied: aiosignal>=1.1.2 in /usr/local/lib/python3.11/dist-packages (from aiohttp->openai==0.28) (1.4.0)\n",
            "Requirement already satisfied: attrs>=17.3.0 in /usr/local/lib/python3.11/dist-packages (from aiohttp->openai==0.28) (25.3.0)\n",
            "Requirement already satisfied: frozenlist>=1.1.1 in /usr/local/lib/python3.11/dist-packages (from aiohttp->openai==0.28) (1.7.0)\n",
            "Requirement already satisfied: multidict<7.0,>=4.5 in /usr/local/lib/python3.11/dist-packages (from aiohttp->openai==0.28) (6.6.3)\n",
            "Requirement already satisfied: propcache>=0.2.0 in /usr/local/lib/python3.11/dist-packages (from aiohttp->openai==0.28) (0.3.2)\n",
            "Requirement already satisfied: yarl<2.0,>=1.17.0 in /usr/local/lib/python3.11/dist-packages (from aiohttp->openai==0.28) (1.20.1)\n",
            "Requirement already satisfied: typing-extensions>=4.2 in /usr/local/lib/python3.11/dist-packages (from aiosignal>=1.1.2->aiohttp->openai==0.28) (4.14.1)\n",
            "Downloading openai-0.28.0-py3-none-any.whl (76 kB)\n",
            "\u001b[2K   \u001b[90m━━━━━━━━━━━━━━━━━━━━━━━━━━━━━━━━━━━━━━━━\u001b[0m \u001b[32m76.5/76.5 kB\u001b[0m \u001b[31m3.3 MB/s\u001b[0m eta \u001b[36m0:00:00\u001b[0m\n",
            "\u001b[?25hInstalling collected packages: openai\n",
            "  Attempting uninstall: openai\n",
            "    Found existing installation: openai 1.96.1\n",
            "    Uninstalling openai-1.96.1:\n",
            "      Successfully uninstalled openai-1.96.1\n",
            "Successfully installed openai-0.28.0\n"
          ]
        }
      ]
    },
    {
      "cell_type": "code",
      "execution_count": 9,
      "metadata": {
        "id": "HWzPsi08_Jds",
        "colab": {
          "base_uri": "https://localhost:8080/"
        },
        "outputId": "ab8f126e-987c-409b-9386-99ebf56e1988"
      },
      "outputs": [
        {
          "output_type": "stream",
          "name": "stdout",
          "text": [
            "\n",
            "    Create a short recipe that uses the following ingredients:\n",
            "    ['chicken', 'broccoli', 'rice']\n",
            "\n",
            "Chicken Broccoli Rice Stir-Fry Recipe:\n",
            "\n",
            "Ingredients:\n",
            "- 1 lb chicken breast, sliced\n",
            "- 2 cups broccoli florets\n",
            "- 1 cup cooked rice\n",
            "- 2 tbsp soy sauce\n",
            "- 1 tbsp sesame oil\n",
            "- 2 cloves garlic, minced\n",
            "- Salt and pepper to taste\n",
            "- Optional: red pepper flakes for heat\n",
            "\n",
            "Instructions:\n",
            "1. Heat sesame oil in a large skillet over medium-high heat.\n",
            "2. Add sliced chicken and cook until browned and cooked through.\n",
            "3. Add minced garlic and broccoli florets to the skillet. Cook until broccoli is tender-crisp.\n",
            "4. Stir in cooked rice and soy sauce. Cook for another 2-3 minutes to heat through.\n",
            "5. Season with salt, pepper, and red pepper flakes if desired.\n",
            "6. Serve hot and enjoy your delicious Chicken Broccoli Rice Stir-Fry!\n"
          ]
        }
      ],
      "source": [
        "#from helper_functions import get_llm_response\n",
        "from IPython.display import display, Markdown\n",
        "from google.colab import userdata\n",
        "import openai\n",
        "\n",
        "# Retrieve the OpenAI API key from Google Colab secrets\n",
        "openai.api_key = userdata.get('openai')\n",
        "\n",
        "def get_llm_response(prompt):\n",
        "    #  \"\"\"This function takes a prompt as input and queries OpenAI's GPT model for a response.\"\"\"\n",
        "    # Send the request to OpenAI API\n",
        "    completion = openai.ChatCompletion.create(\n",
        "    model=\"gpt-3.5-turbo\",\n",
        "    messages=[\n",
        "            {\n",
        "                \"role\": \"system\",\n",
        "                \"content\": \"You are a helpful but concise AI assistant.\",\n",
        "            },\n",
        "            {\"role\": \"user\", \"content\": prompt},\n",
        "        ],\n",
        "    temperature=0.0,\n",
        "    )\n",
        "    response = completion.choices[0].message.content\n",
        "    return response\n",
        "#Write a prompt to create a recipe using get_llm_response.\n",
        "\n",
        "#    Create a short recipe that uses the following ingredients:\n",
        " #   ['chicken', 'broccoli', 'rice']\n",
        "\n",
        "# Write a list of ingredients\n",
        "ingredients = ['chicken', 'broccoli', 'rice']\n",
        "\n",
        "# Write the prompt\n",
        "prompt = f\"\"\"\n",
        "    Create a short recipe that uses the following ingredients:\n",
        "    {ingredients}\n",
        "\"\"\"\n",
        "print(prompt)\n",
        "\n",
        "# Get the response from the LLM\n",
        "response = get_llm_response(prompt)\n",
        "\n",
        "# Print the LLM response\n",
        "print(response)"
      ]
    },
    {
      "cell_type": "code",
      "source": [
        "f = open(\"/content/sample_data/email.txt\", \"r\")\n",
        "email = f.read()\n",
        "f.close()\n",
        "\n",
        "#🤖 Use the Chatbot:\n",
        "\n",
        "#What happens if I don't close a file?\n",
        "\n",
        "#Using LLMs to extract bullet points from the email\n",
        "#Create a prompt to extract bullet points from Daniel's email ✉️.\"\"\"\n",
        "prompt = f\"\"\"Extract bullet points from the following email.\n",
        "#Include the sender information.\n",
        "\n",
        "Email:\n",
        "{email}\n",
        "\"\"\"\n",
        "\n",
        "print(prompt)\n",
        "#Run the get_llm_response function to get the response with bullet points.\n",
        "bullet_points = get_llm_response(prompt)\n",
        "print(bullet_points)\n",
        "#Print the LLM response in Markdown format.\n",
        "# Print in Markdown format\n",
        "display(Markdown(bullet_points))\n",
        "#Extra practice\n",
        "#Try the exercises below to get an LLM to carry out different tasks using the email text you read in from file:\n",
        "\n",
        "#Exercise 1\n",
        "#Complete the code below to identify all the countries mentioned in the email.\n",
        "\n",
        "# Complete the code below to identify all of the countries mentioned\n",
        "# in the email\n",
        "prompt = f\"\"\"mention all the countries mentioned in the email.\n",
        "\n",
        "\n",
        "Email:\n",
        "{email}\n",
        "\"\"\"\n",
        "\n",
        "countries = get_llm_response(prompt)\n",
        "print(countries)\n",
        "#Exercise 2\n",
        "#Write code below to list all of the activities that Daniel did on his trip. You'll need to create a prompt and use either get_llm_response or print_llm_response.\n",
        "\n",
        "# Write code below to list all of the activities that Daniel did on\n",
        "# his trip. You'll need to create a prompt and use either\n",
        "# get_llm_response or print_llm_response\n",
        "# START YOUR CODE HERE\n",
        "\n",
        "prompt = f\"\"\"mention all the activities he did in this trip.\n",
        "\n",
        "\n",
        "Email:\n",
        "{email}\n",
        "\"\"\"\n",
        "\n",
        "countries = get_llm_response(prompt)\n",
        "print(countries)"
      ],
      "metadata": {
        "id": "UJoZEVLBA08m",
        "colab": {
          "base_uri": "https://localhost:8080/",
          "height": 876
        },
        "outputId": "f83231b7-b0d2-4a90-eb91-a73d5544daa0"
      },
      "execution_count": 17,
      "outputs": [
        {
          "output_type": "stream",
          "name": "stdout",
          "text": [
            "Extract bullet points from the following email.\n",
            "#Include the sender information.\n",
            "\n",
            "Email:\n",
            "Hi Mohammad,\n",
            "\n",
            "I hope you are doing greatl! I just returned from an incredible trip around the world. I started in New York, enjoying a Broadway show and the skyline. In Rio de Janeiro, I soaked up the sun on Copacabana Beach and hiked to Christ the Redeemer. Cape Town amazed me with its natural beauty and safari adventures. Paris was magical with its charming streets and delicious food. Istanbul's Hagia Sophia and Bosphorus cruise were unforgettable. Tokyo dazzled with its neon lights and delicious sushi. Finally, Sydney's Opera House and Bondi Beach were the perfect end to my journey. Can't wait to share more stories and photos when we catch up!\n",
            "\n",
            "Best,\n",
            "\n",
            "Daniel\n",
            "\n",
            "Sender: Daniel\n",
            "\n",
            "Bullet points:\n",
            "- Started trip in New York, enjoyed Broadway show and skyline\n",
            "- Visited Rio de Janeiro, relaxed on Copacabana Beach, hiked to Christ the Redeemer\n",
            "- Explored Cape Town's natural beauty and went on safari adventures\n",
            "- Experienced the magic of Paris with its charming streets and delicious food\n",
            "- Visited Istanbul, saw Hagia Sophia and went on a Bosphorus cruise\n",
            "- Explored Tokyo, dazzled by neon lights and enjoyed delicious sushi\n",
            "- Ended journey in Sydney, visited Opera House and Bondi Beach\n"
          ]
        },
        {
          "output_type": "display_data",
          "data": {
            "text/plain": [
              "<IPython.core.display.Markdown object>"
            ],
            "text/markdown": "Sender: Daniel\n\nBullet points:\n- Started trip in New York, enjoyed Broadway show and skyline\n- Visited Rio de Janeiro, relaxed on Copacabana Beach, hiked to Christ the Redeemer\n- Explored Cape Town's natural beauty and went on safari adventures\n- Experienced the magic of Paris with its charming streets and delicious food\n- Visited Istanbul, saw Hagia Sophia and went on a Bosphorus cruise\n- Explored Tokyo, dazzled by neon lights and enjoyed delicious sushi\n- Ended journey in Sydney, visited Opera House and Bondi Beach"
          },
          "metadata": {}
        },
        {
          "output_type": "stream",
          "name": "stdout",
          "text": [
            "The countries mentioned in the email are:\n",
            "1. United States (New York)\n",
            "2. Brazil (Rio de Janeiro)\n",
            "3. South Africa (Cape Town)\n",
            "4. France (Paris)\n",
            "5. Turkey (Istanbul)\n",
            "6. Japan (Tokyo)\n",
            "7. Australia (Sydney)\n",
            "Activities in the trip:\n",
            "1. Enjoyed a Broadway show and the skyline in New York.\n",
            "2. Soaked up the sun on Copacabana Beach and hiked to Christ the Redeemer in Rio de Janeiro.\n",
            "3. Explored the natural beauty and went on safari adventures in Cape Town.\n",
            "4. Wandered through the charming streets and enjoyed delicious food in Paris.\n",
            "5. Visited Hagia Sophia and went on a Bosphorus cruise in Istanbul.\n",
            "6. Experienced the neon lights and enjoyed delicious sushi in Tokyo.\n",
            "7. Explored the Opera House and relaxed at Bondi Beach in Sydney.\n"
          ]
        }
      ]
    },
    {
      "cell_type": "code",
      "source": [],
      "metadata": {
        "id": "EjkhGaU2aFSv"
      },
      "execution_count": null,
      "outputs": []
    }
  ]
}